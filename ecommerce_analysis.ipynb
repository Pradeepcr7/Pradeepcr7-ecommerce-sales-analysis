{
 "cells": [
  {
   "cell_type": "code",
   "execution_count": 4,
   "id": "f8ade25e-6a41-4e2a-988f-4d346a9cf58a",
   "metadata": {},
   "outputs": [],
   "source": [
    "import pandas as pd\n",
    "\n",
    "# Load CSVs\n",
    "orders = pd.read_csv(\"C:/Users/Pradeep/Desktop/Ecommerce-Sales-Analysis/orders_export.csv\")\n",
    "customers = pd.read_csv(\"C:/Users/Pradeep/Desktop/Ecommerce-Sales-Analysis/customers_export.csv\")\n",
    "products = pd.read_csv(\"C:/Users/Pradeep/Desktop/Ecommerce-Sales-Analysis/products_export.csv\")\n"
   ]
  },
  {
   "cell_type": "code",
   "execution_count": 5,
   "id": "d4d58c4e-eda8-4ed6-9f19-b03aca3270fa",
   "metadata": {},
   "outputs": [
    {
     "data": {
      "text/html": [
       "<div>\n",
       "<style scoped>\n",
       "    .dataframe tbody tr th:only-of-type {\n",
       "        vertical-align: middle;\n",
       "    }\n",
       "\n",
       "    .dataframe tbody tr th {\n",
       "        vertical-align: top;\n",
       "    }\n",
       "\n",
       "    .dataframe thead th {\n",
       "        text-align: right;\n",
       "    }\n",
       "</style>\n",
       "<table border=\"1\" class=\"dataframe\">\n",
       "  <thead>\n",
       "    <tr style=\"text-align: right;\">\n",
       "      <th></th>\n",
       "      <th>order_id</th>\n",
       "      <th>customer_id</th>\n",
       "      <th>product_id</th>\n",
       "      <th>order_date</th>\n",
       "      <th>region</th>\n",
       "      <th>quantity</th>\n",
       "      <th>discount</th>\n",
       "      <th>sales</th>\n",
       "      <th>profit</th>\n",
       "      <th>customer_name</th>\n",
       "      <th>segment</th>\n",
       "      <th>country</th>\n",
       "      <th>city</th>\n",
       "      <th>category</th>\n",
       "      <th>sub_category</th>\n",
       "    </tr>\n",
       "  </thead>\n",
       "  <tbody>\n",
       "    <tr>\n",
       "      <th>0</th>\n",
       "      <td>O0001</td>\n",
       "      <td>C003</td>\n",
       "      <td>P019</td>\n",
       "      <td>2024-09-27</td>\n",
       "      <td>West</td>\n",
       "      <td>9</td>\n",
       "      <td>0.0</td>\n",
       "      <td>3389.82</td>\n",
       "      <td>-594.63</td>\n",
       "      <td>Mr. Marvin Cooper</td>\n",
       "      <td>Consumer</td>\n",
       "      <td>USA</td>\n",
       "      <td>Whitakertown</td>\n",
       "      <td>Technology</td>\n",
       "      <td>Phones</td>\n",
       "    </tr>\n",
       "    <tr>\n",
       "      <th>1</th>\n",
       "      <td>O0002</td>\n",
       "      <td>C025</td>\n",
       "      <td>P016</td>\n",
       "      <td>2023-12-25</td>\n",
       "      <td>West</td>\n",
       "      <td>1</td>\n",
       "      <td>0.1</td>\n",
       "      <td>288.11</td>\n",
       "      <td>37.45</td>\n",
       "      <td>Luis Craig</td>\n",
       "      <td>Home Office</td>\n",
       "      <td>USA</td>\n",
       "      <td>Port Peterburgh</td>\n",
       "      <td>Office Supplies</td>\n",
       "      <td>Binders</td>\n",
       "    </tr>\n",
       "    <tr>\n",
       "      <th>2</th>\n",
       "      <td>O0003</td>\n",
       "      <td>C086</td>\n",
       "      <td>P094</td>\n",
       "      <td>2025-06-18</td>\n",
       "      <td>West</td>\n",
       "      <td>9</td>\n",
       "      <td>0.0</td>\n",
       "      <td>1540.80</td>\n",
       "      <td>398.73</td>\n",
       "      <td>Krystal Schaefer</td>\n",
       "      <td>Corporate</td>\n",
       "      <td>USA</td>\n",
       "      <td>North Jaredmouth</td>\n",
       "      <td>Furniture</td>\n",
       "      <td>Tables</td>\n",
       "    </tr>\n",
       "    <tr>\n",
       "      <th>3</th>\n",
       "      <td>O0004</td>\n",
       "      <td>C043</td>\n",
       "      <td>P031</td>\n",
       "      <td>2025-05-02</td>\n",
       "      <td>North</td>\n",
       "      <td>6</td>\n",
       "      <td>0.1</td>\n",
       "      <td>1345.63</td>\n",
       "      <td>-105.09</td>\n",
       "      <td>Michael Conrad</td>\n",
       "      <td>Home Office</td>\n",
       "      <td>USA</td>\n",
       "      <td>Camposberg</td>\n",
       "      <td>Technology</td>\n",
       "      <td>Copiers</td>\n",
       "    </tr>\n",
       "    <tr>\n",
       "      <th>4</th>\n",
       "      <td>O0005</td>\n",
       "      <td>C100</td>\n",
       "      <td>P030</td>\n",
       "      <td>2023-11-26</td>\n",
       "      <td>North</td>\n",
       "      <td>1</td>\n",
       "      <td>0.2</td>\n",
       "      <td>382.55</td>\n",
       "      <td>31.27</td>\n",
       "      <td>Laura Gentry</td>\n",
       "      <td>Consumer</td>\n",
       "      <td>USA</td>\n",
       "      <td>Moraborough</td>\n",
       "      <td>Office Supplies</td>\n",
       "      <td>Paper</td>\n",
       "    </tr>\n",
       "  </tbody>\n",
       "</table>\n",
       "</div>"
      ],
      "text/plain": [
       "  order_id customer_id product_id  order_date region  quantity  discount  \\\n",
       "0    O0001        C003       P019  2024-09-27   West         9       0.0   \n",
       "1    O0002        C025       P016  2023-12-25   West         1       0.1   \n",
       "2    O0003        C086       P094  2025-06-18   West         9       0.0   \n",
       "3    O0004        C043       P031  2025-05-02  North         6       0.1   \n",
       "4    O0005        C100       P030  2023-11-26  North         1       0.2   \n",
       "\n",
       "     sales  profit      customer_name      segment country              city  \\\n",
       "0  3389.82 -594.63  Mr. Marvin Cooper     Consumer     USA      Whitakertown   \n",
       "1   288.11   37.45         Luis Craig  Home Office     USA   Port Peterburgh   \n",
       "2  1540.80  398.73   Krystal Schaefer    Corporate     USA  North Jaredmouth   \n",
       "3  1345.63 -105.09     Michael Conrad  Home Office     USA        Camposberg   \n",
       "4   382.55   31.27       Laura Gentry     Consumer     USA       Moraborough   \n",
       "\n",
       "          category sub_category  \n",
       "0       Technology       Phones  \n",
       "1  Office Supplies      Binders  \n",
       "2        Furniture       Tables  \n",
       "3       Technology      Copiers  \n",
       "4  Office Supplies        Paper  "
      ]
     },
     "execution_count": 5,
     "metadata": {},
     "output_type": "execute_result"
    }
   ],
   "source": [
    "# Merge orders + customers\n",
    "df = orders.merge(customers, on=\"customer_id\", how=\"left\")\n",
    "\n",
    "# Then merge with products\n",
    "df = df.merge(products, on=\"product_id\", how=\"left\")\n",
    "\n",
    "# Preview\n",
    "df.head()\n"
   ]
  },
  {
   "cell_type": "code",
   "execution_count": 6,
   "id": "d6c4d5eb-2179-42d3-9f12-69ae72fe4078",
   "metadata": {},
   "outputs": [
    {
     "name": "stdout",
     "output_type": "stream",
     "text": [
      "Shape of merged data: (500, 15)\n",
      "Columns: ['order_id', 'customer_id', 'product_id', 'order_date', 'region', 'quantity', 'discount', 'sales', 'profit', 'customer_name', 'segment', 'country', 'city', 'category', 'sub_category']\n"
     ]
    }
   ],
   "source": [
    "print(\"Shape of merged data:\", df.shape)\n",
    "print(\"Columns:\", df.columns.tolist())\n"
   ]
  },
  {
   "cell_type": "code",
   "execution_count": 7,
   "id": "00c04bf2-a712-4953-a6e0-96c42e1d7588",
   "metadata": {},
   "outputs": [
    {
     "name": "stdout",
     "output_type": "stream",
     "text": [
      "💰 Total Sales: ₹596,796.32\n"
     ]
    }
   ],
   "source": [
    "total_sales = df['sales'].sum()\n",
    "print(f\"💰 Total Sales: ₹{total_sales:,.2f}\")\n"
   ]
  },
  {
   "cell_type": "code",
   "execution_count": 8,
   "id": "64713ef2-d7d9-4da6-a0e0-7e40e408cf11",
   "metadata": {},
   "outputs": [
    {
     "name": "stdout",
     "output_type": "stream",
     "text": [
      "📈 Total Profit: ₹28,582.85\n"
     ]
    }
   ],
   "source": [
    "total_profit = df['profit'].sum()\n",
    "print(f\"📈 Total Profit: ₹{total_profit:,.2f}\")\n"
   ]
  },
  {
   "cell_type": "code",
   "execution_count": 9,
   "id": "bc285644-c071-43bd-8418-345d23b790c4",
   "metadata": {},
   "outputs": [
    {
     "name": "stdout",
     "output_type": "stream",
     "text": [
      "🔻 Average Discount: 11.92%\n"
     ]
    }
   ],
   "source": [
    "avg_discount = df['discount'].mean() * 100\n",
    "print(f\"🔻 Average Discount: {avg_discount:.2f}%\")\n"
   ]
  },
  {
   "cell_type": "code",
   "execution_count": 11,
   "id": "43f2bca9-3222-4ec2-8b2f-2b7329a8aa8d",
   "metadata": {},
   "outputs": [
    {
     "name": "stdout",
     "output_type": "stream",
     "text": [
      "\n",
      "🧍 Sales by Segment:\n",
      " segment\n",
      "Consumer       224756.49\n",
      "Corporate      196942.11\n",
      "Home Office    175097.72\n",
      "Name: sales, dtype: float64\n"
     ]
    }
   ],
   "source": [
    "segment_sales = df.groupby('segment')['sales'].sum().sort_values(ascending=False)\n",
    "print(\"\\n🧍 Sales by Segment:\\n\", segment_sales)\n"
   ]
  },
  {
   "cell_type": "code",
   "execution_count": 12,
   "id": "7b13f665-28b0-439e-b656-267d7b1791a6",
   "metadata": {},
   "outputs": [
    {
     "name": "stdout",
     "output_type": "stream",
     "text": [
      "\n",
      "💼 Profit by Category:\n",
      " category\n",
      "Office Supplies    10582.37\n",
      "Furniture           9003.99\n",
      "Technology          8996.49\n",
      "Name: profit, dtype: float64\n"
     ]
    }
   ],
   "source": [
    "category_profit = df.groupby('category')['profit'].sum().sort_values(ascending=False)\n",
    "print(\"\\n💼 Profit by Category:\\n\", category_profit)\n"
   ]
  },
  {
   "cell_type": "code",
   "execution_count": 13,
   "id": "6823cbde-d297-4da6-8a0a-f73f9e440e53",
   "metadata": {},
   "outputs": [
    {
     "name": "stdout",
     "output_type": "stream",
     "text": [
      "\n",
      "🌍 Sales by Region:\n",
      " region\n",
      "North    178575.43\n",
      "East     146242.51\n",
      "South    136174.46\n",
      "West     135803.92\n",
      "Name: sales, dtype: float64\n"
     ]
    }
   ],
   "source": [
    "region_sales = df.groupby('region')['sales'].sum().sort_values(ascending=False)\n",
    "print(\"\\n🌍 Sales by Region:\\n\", region_sales)\n"
   ]
  },
  {
   "cell_type": "code",
   "execution_count": null,
   "id": "dea6c059-fff4-4a1b-b71e-2029847528c6",
   "metadata": {},
   "outputs": [],
   "source": []
  }
 ],
 "metadata": {
  "kernelspec": {
   "display_name": "Python 3 (ipykernel)",
   "language": "python",
   "name": "python3"
  },
  "language_info": {
   "codemirror_mode": {
    "name": "ipython",
    "version": 3
   },
   "file_extension": ".py",
   "mimetype": "text/x-python",
   "name": "python",
   "nbconvert_exporter": "python",
   "pygments_lexer": "ipython3",
   "version": "3.12.4"
  }
 },
 "nbformat": 4,
 "nbformat_minor": 5
}
